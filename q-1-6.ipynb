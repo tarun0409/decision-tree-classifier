{
 "cells": [
  {
   "cell_type": "markdown",
   "metadata": {},
   "source": [
    "<html>\n",
    "  <body>\n",
    "      <h2>Dealing with Missing nodes</h2>\n",
    "      <h3>Q1.6. Explain how decision tree is suitable handle missing values(few attributes missing in test samples) in data.</h3>\n",
    "  </body>\n",
    "</html>"
   ]
  },
  {
   "cell_type": "markdown",
   "metadata": {},
   "source": [
    "<html lang=\"en\" dir=\"ltr\">\n",
    "  <body>\n",
    "    <p>If missing values happens to be in training data, we need to fill it up using some suitable heuristic.</p>\n",
    "    <p>If missing values are in test data, it will occur in one of the following conditions:</p>\n",
    "    <ol>\n",
    "      <li>The values are missing to the end of a row</li>\n",
    "      <li>The values are missing in the beginning/middle of the row</li>\n",
    "    </ol>\n",
    "    <p>To illustrate the above cases, lets take a look at this tree:</p>\n",
    "    <img src=\"tree.jpeg\">\n",
    "    <h3>Values are missing to end of row</h3>\n",
    "    <p>If the values are missing to the end of row like the following:</p>\n",
    "    <p>[val_1,val_3,-]</p>\n",
    "    <p>Here either val_7 or val_8 might be missing.</p>\n",
    "    <p>In this case we can simply ignore the next branch to be taken and treat the current node as the leaf node. We could take the possitive results, negative results, compare them and give a verdict.</p>\n",
    "    <h3>Values are missing in beginning/end of row</h3>\n",
    "    <p>If values are missing in the beginning/middle of row, then we cannot proceed because there are still some branches to be taken at the end.</p>\n",
    "    <p>For example take a look at following values:</p>\n",
    "    <p>[val_1,-,val_11]</p>\n",
    "    <p>[-,val_4,val_11]</p>\n",
    "    <p>In this case we take all possible branches until from one branch we reach the next given value. For example in the first example, we can pick val_3 and val_4 and then reach val_11 via val_4. Hence we can take val_4 branch</p>\n",
    "\n",
    "  </body>\n",
    "</html>"
   ]
  },
  {
   "cell_type": "code",
   "execution_count": null,
   "metadata": {},
   "outputs": [],
   "source": []
  }
 ],
 "metadata": {
  "kernelspec": {
   "display_name": "Python 2",
   "language": "python",
   "name": "python2"
  },
  "language_info": {
   "codemirror_mode": {
    "name": "ipython",
    "version": 2
   },
   "file_extension": ".py",
   "mimetype": "text/x-python",
   "name": "python",
   "nbconvert_exporter": "python",
   "pygments_lexer": "ipython2",
   "version": "2.7.15rc1"
  }
 },
 "nbformat": 4,
 "nbformat_minor": 2
}
