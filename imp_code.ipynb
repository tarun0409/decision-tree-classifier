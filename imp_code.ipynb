{
 "cells": [
  {
   "cell_type": "code",
   "execution_count": null,
   "metadata": {},
   "outputs": [],
   "source": [
    "X_train_lim = X_train[['average_montly_hours']]\n",
    "# X_train_lim.head()\n",
    "k_means = KMeans(n_clusters=3, random_state=0).fit(X_train_lim)\n",
    "\n",
    "cluster_map = pd.DataFrame()\n",
    "cluster_map['average_montly_hours'] = X_train_lim['average_montly_hours']\n",
    "cluster_map['cluster'] = k_means.labels_\n",
    "print min(cluster_map[cluster_map.cluster == 2].sort_values(['average_montly_hours'])['average_montly_hours'])\n",
    "print max(cluster_map[cluster_map.cluster == 2].sort_values(['average_montly_hours'])['average_montly_hours'])"
   ]
  }
 ],
 "metadata": {
  "kernelspec": {
   "display_name": "Python 2",
   "language": "python",
   "name": "python2"
  },
  "language_info": {
   "codemirror_mode": {
    "name": "ipython",
    "version": 2
   },
   "file_extension": ".py",
   "mimetype": "text/x-python",
   "name": "python",
   "nbconvert_exporter": "python",
   "pygments_lexer": "ipython2",
   "version": "2.7.15rc1"
  }
 },
 "nbformat": 4,
 "nbformat_minor": 2
}
