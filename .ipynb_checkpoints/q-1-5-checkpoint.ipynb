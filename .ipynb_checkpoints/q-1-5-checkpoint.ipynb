{
 "cells": [
  {
   "cell_type": "code",
   "execution_count": 1,
   "metadata": {},
   "outputs": [
    {
     "data": {
      "text/html": [
       "<div>\n",
       "<style scoped>\n",
       "    .dataframe tbody tr th:only-of-type {\n",
       "        vertical-align: middle;\n",
       "    }\n",
       "\n",
       "    .dataframe tbody tr th {\n",
       "        vertical-align: top;\n",
       "    }\n",
       "\n",
       "    .dataframe thead th {\n",
       "        text-align: right;\n",
       "    }\n",
       "</style>\n",
       "<table border=\"1\" class=\"dataframe\">\n",
       "  <thead>\n",
       "    <tr style=\"text-align: right;\">\n",
       "      <th></th>\n",
       "      <th>satisfaction_level</th>\n",
       "      <th>last_evaluation</th>\n",
       "      <th>number_project</th>\n",
       "      <th>average_montly_hours</th>\n",
       "      <th>time_spend_company</th>\n",
       "      <th>Work_accident</th>\n",
       "      <th>left</th>\n",
       "      <th>promotion_last_5years</th>\n",
       "      <th>sales</th>\n",
       "      <th>salary</th>\n",
       "    </tr>\n",
       "  </thead>\n",
       "  <tbody>\n",
       "    <tr>\n",
       "      <th>0</th>\n",
       "      <td>0.10</td>\n",
       "      <td>0.90</td>\n",
       "      <td>7</td>\n",
       "      <td>286</td>\n",
       "      <td>4</td>\n",
       "      <td>0</td>\n",
       "      <td>1</td>\n",
       "      <td>0</td>\n",
       "      <td>sales</td>\n",
       "      <td>low</td>\n",
       "    </tr>\n",
       "    <tr>\n",
       "      <th>1</th>\n",
       "      <td>0.89</td>\n",
       "      <td>0.93</td>\n",
       "      <td>4</td>\n",
       "      <td>249</td>\n",
       "      <td>3</td>\n",
       "      <td>0</td>\n",
       "      <td>0</td>\n",
       "      <td>0</td>\n",
       "      <td>sales</td>\n",
       "      <td>low</td>\n",
       "    </tr>\n",
       "    <tr>\n",
       "      <th>2</th>\n",
       "      <td>0.38</td>\n",
       "      <td>0.50</td>\n",
       "      <td>2</td>\n",
       "      <td>132</td>\n",
       "      <td>3</td>\n",
       "      <td>0</td>\n",
       "      <td>1</td>\n",
       "      <td>0</td>\n",
       "      <td>accounting</td>\n",
       "      <td>low</td>\n",
       "    </tr>\n",
       "    <tr>\n",
       "      <th>3</th>\n",
       "      <td>0.95</td>\n",
       "      <td>0.71</td>\n",
       "      <td>4</td>\n",
       "      <td>151</td>\n",
       "      <td>4</td>\n",
       "      <td>0</td>\n",
       "      <td>0</td>\n",
       "      <td>0</td>\n",
       "      <td>sales</td>\n",
       "      <td>medium</td>\n",
       "    </tr>\n",
       "    <tr>\n",
       "      <th>4</th>\n",
       "      <td>0.84</td>\n",
       "      <td>0.84</td>\n",
       "      <td>5</td>\n",
       "      <td>163</td>\n",
       "      <td>3</td>\n",
       "      <td>0</td>\n",
       "      <td>0</td>\n",
       "      <td>0</td>\n",
       "      <td>technical</td>\n",
       "      <td>low</td>\n",
       "    </tr>\n",
       "  </tbody>\n",
       "</table>\n",
       "</div>"
      ],
      "text/plain": [
       "   satisfaction_level  last_evaluation  number_project  average_montly_hours  \\\n",
       "0                0.10             0.90               7                   286   \n",
       "1                0.89             0.93               4                   249   \n",
       "2                0.38             0.50               2                   132   \n",
       "3                0.95             0.71               4                   151   \n",
       "4                0.84             0.84               5                   163   \n",
       "\n",
       "   time_spend_company  Work_accident  left  promotion_last_5years       sales  \\\n",
       "0                   4              0     1                      0       sales   \n",
       "1                   3              0     0                      0       sales   \n",
       "2                   3              0     1                      0  accounting   \n",
       "3                   4              0     0                      0       sales   \n",
       "4                   3              0     0                      0   technical   \n",
       "\n",
       "   salary  \n",
       "0     low  \n",
       "1     low  \n",
       "2     low  \n",
       "3  medium  \n",
       "4     low  "
      ]
     },
     "execution_count": 1,
     "metadata": {},
     "output_type": "execute_result"
    }
   ],
   "source": [
    "import pandas as pd\n",
    "import numpy as np\n",
    "from sklearn.cluster import KMeans\n",
    "from sklearn.model_selection import train_test_split\n",
    "import matplotlib.pyplot as plt\n",
    "import json\n",
    "\n",
    "data = pd.read_csv('train.csv')\n",
    "data.head()\n"
   ]
  },
  {
   "cell_type": "code",
   "execution_count": 2,
   "metadata": {},
   "outputs": [
    {
     "name": "stdout",
     "output_type": "stream",
     "text": [
      "8990\n"
     ]
    }
   ],
   "source": [
    "X_train, X_test, y_train, y_test = train_test_split(\n",
    "    data,\n",
    "    data.left,\n",
    "    test_size=0.2,\n",
    "    random_state=0)\n",
    "\n",
    "print len(X_train)"
   ]
  },
  {
   "cell_type": "code",
   "execution_count": 116,
   "metadata": {},
   "outputs": [
    {
     "name": "stdout",
     "output_type": "stream",
     "text": [
      "0.18\n",
      "0.29\n"
     ]
    }
   ],
   "source": [
    "X_train_lim = X_train[['satisfaction_level']]\n",
    "# X_train_lim.head()\n",
    "k_means = KMeans(n_clusters=12, random_state=0).fit(X_train_lim)\n",
    "\n",
    "cluster_map = pd.DataFrame()\n",
    "cluster_map['satisfaction_level'] = X_train_lim['satisfaction_level']\n",
    "cluster_map['cluster'] = k_means.labels_\n",
    "print min(cluster_map[cluster_map.cluster == 11].sort_values(['satisfaction_level'])['satisfaction_level'])\n",
    "print max(cluster_map[cluster_map.cluster == 11].sort_values(['satisfaction_level'])['satisfaction_level'])"
   ]
  },
  {
   "cell_type": "code",
   "execution_count": 103,
   "metadata": {},
   "outputs": [],
   "source": [
    "# 0.75 to 0.8\n",
    "# 0.3 to 0.39\n",
    "# 0.61 to 0.67\n",
    "# 0.09 to 0.17\n",
    "# 0.95 to 1.0\n",
    "# 0.4 to 0.46\n",
    "# 0.88 to 0.94\n",
    "# 0.47 to 0.53\n",
    "# 0.68 to 0.74\n",
    "# 0.81 to 0.87\n",
    "# 0.54 to 0.6\n",
    "# 0.18 to 0.29\n",
    "#satisfaction_level\n",
    "#0.031786002213136544\n",
    "#0.08184918740708536\n",
    "#0.117449869384533\n",
    "#0.15128534012884431\n",
    "#0.15078773185664396\n",
    "#0.19272091419631415\n",
    "#0.18171911043944522\n",
    "#0.17741331738554467\n",
    "#0.185775339007071"
   ]
  },
  {
   "cell_type": "code",
   "execution_count": 117,
   "metadata": {},
   "outputs": [
    {
     "name": "stdout",
     "output_type": "stream",
     "text": [
      "0.1953569604373201\n"
     ]
    }
   ],
   "source": [
    "curr_data = X_train.copy()\n",
    "map_range_sl = lambda x: 'a' if x<=0.17 else ('b' if x <= 0.29 else ('c' if x<=0.39 else ('d' if x<=0.46 else ('e' if x<=0.53 else ('f' if x<=0.6 else ('g' if x<=0.67 else ('h' if x<=0.74 else ('i' if x<=0.8 else ('j' if x<=0.87 else ('k' if x<=0.94 else 'l')))) ))))))\n",
    "curr_data.satisfaction_level = X_train.satisfaction_level.apply(map_range_sl)\n",
    "m = len(curr_data)\n",
    "col_pos = 0\n",
    "col_neg = 0\n",
    "I=0\n",
    "col = 'satisfaction_level'\n",
    "for categ in curr_data[col].unique():\n",
    "    pos = 0\n",
    "    neg = 0\n",
    "    if 1 in curr_data.groupby([col])['left'].value_counts()[categ]: \n",
    "        pos = curr_data.groupby([col])['left'].value_counts()[categ][1]\n",
    "    if 0 in curr_data.groupby([col])['left'].value_counts()[categ]:\n",
    "        neg = curr_data.groupby([col])['left'].value_counts()[categ][0]\n",
    "    col_pos += pos\n",
    "    col_neg += neg\n",
    "    pos_ratio = float(pos)/float(pos+neg)\n",
    "    neg_ratio = float(neg)/float(pos+neg)\n",
    "    if pos_ratio == 0 or pos_ratio == 1:\n",
    "        impurity = 0\n",
    "    else:\n",
    "        impurity = -((pos_ratio*np.log(pos_ratio)) + (neg_ratio*np.log(neg_ratio)))\n",
    "    I += (float(pos+neg)/float(m))*impurity\n",
    "col_pos_ratio = float(col_pos)/float(col_pos+col_neg)\n",
    "col_neg_ratio = float(col_neg)/float(col_pos+col_neg)\n",
    "if col_pos_ratio == 0 or col_pos_ratio == 1:\n",
    "    E = 0\n",
    "else:\n",
    "    E = -((col_pos_ratio*np.log(col_pos_ratio)) + (col_neg_ratio*np.log(col_neg_ratio)))\n",
    "G = E - I\n",
    "print G"
   ]
  },
  {
   "cell_type": "code",
   "execution_count": null,
   "metadata": {},
   "outputs": [],
   "source": []
  }
 ],
 "metadata": {
  "kernelspec": {
   "display_name": "Python 2",
   "language": "python",
   "name": "python2"
  },
  "language_info": {
   "codemirror_mode": {
    "name": "ipython",
    "version": 2
   },
   "file_extension": ".py",
   "mimetype": "text/x-python",
   "name": "python",
   "nbconvert_exporter": "python",
   "pygments_lexer": "ipython2",
   "version": "2.7.15rc1"
  }
 },
 "nbformat": 4,
 "nbformat_minor": 2
}
