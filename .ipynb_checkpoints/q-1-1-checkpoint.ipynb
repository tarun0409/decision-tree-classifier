{
 "cells": [
  {
   "cell_type": "code",
   "execution_count": 1,
   "metadata": {},
   "outputs": [
    {
     "data": {
      "text/html": [
       "<div>\n",
       "<style scoped>\n",
       "    .dataframe tbody tr th:only-of-type {\n",
       "        vertical-align: middle;\n",
       "    }\n",
       "\n",
       "    .dataframe tbody tr th {\n",
       "        vertical-align: top;\n",
       "    }\n",
       "\n",
       "    .dataframe thead th {\n",
       "        text-align: right;\n",
       "    }\n",
       "</style>\n",
       "<table border=\"1\" class=\"dataframe\">\n",
       "  <thead>\n",
       "    <tr style=\"text-align: right;\">\n",
       "      <th></th>\n",
       "      <th>Work_accident</th>\n",
       "      <th>left</th>\n",
       "      <th>promotion_last_5years</th>\n",
       "      <th>sales</th>\n",
       "      <th>salary</th>\n",
       "    </tr>\n",
       "  </thead>\n",
       "  <tbody>\n",
       "    <tr>\n",
       "      <th>0</th>\n",
       "      <td>0</td>\n",
       "      <td>1</td>\n",
       "      <td>0</td>\n",
       "      <td>sales</td>\n",
       "      <td>low</td>\n",
       "    </tr>\n",
       "    <tr>\n",
       "      <th>1</th>\n",
       "      <td>0</td>\n",
       "      <td>0</td>\n",
       "      <td>0</td>\n",
       "      <td>sales</td>\n",
       "      <td>low</td>\n",
       "    </tr>\n",
       "    <tr>\n",
       "      <th>2</th>\n",
       "      <td>0</td>\n",
       "      <td>1</td>\n",
       "      <td>0</td>\n",
       "      <td>accounting</td>\n",
       "      <td>low</td>\n",
       "    </tr>\n",
       "    <tr>\n",
       "      <th>3</th>\n",
       "      <td>0</td>\n",
       "      <td>0</td>\n",
       "      <td>0</td>\n",
       "      <td>sales</td>\n",
       "      <td>medium</td>\n",
       "    </tr>\n",
       "    <tr>\n",
       "      <th>4</th>\n",
       "      <td>0</td>\n",
       "      <td>0</td>\n",
       "      <td>0</td>\n",
       "      <td>technical</td>\n",
       "      <td>low</td>\n",
       "    </tr>\n",
       "  </tbody>\n",
       "</table>\n",
       "</div>"
      ],
      "text/plain": [
       "   Work_accident  left  promotion_last_5years       sales  salary\n",
       "0              0     1                      0       sales     low\n",
       "1              0     0                      0       sales     low\n",
       "2              0     1                      0  accounting     low\n",
       "3              0     0                      0       sales  medium\n",
       "4              0     0                      0   technical     low"
      ]
     },
     "execution_count": 1,
     "metadata": {},
     "output_type": "execute_result"
    }
   ],
   "source": [
    "import pandas as pd\n",
    "import numpy as np\n",
    "from sklearn.tree import DecisionTreeClassifier\n",
    "from sklearn.model_selection import train_test_split\n",
    "import json\n",
    "\n",
    "cols = ['Work_accident','left','promotion_last_5years','sales','salary']\n",
    "data = pd.read_csv('train.csv',usecols=cols)\n",
    "data.head()\n"
   ]
  },
  {
   "cell_type": "code",
   "execution_count": 2,
   "metadata": {},
   "outputs": [
    {
     "name": "stdout",
     "output_type": "stream",
     "text": [
      "(11238, 5)\n"
     ]
    }
   ],
   "source": [
    "print data.shape"
   ]
  },
  {
   "cell_type": "code",
   "execution_count": 4,
   "metadata": {},
   "outputs": [],
   "source": [
    "# for col in data:\n",
    "#     if col=='left':\n",
    "#         continue\n",
    "#     for categ in data[col].unique():\n",
    "#         print \n",
    "#         print col+'  ::  '+str(categ)\n",
    "#         print\n",
    "#         print 'Positive : '+str(data.groupby([col])['left'].value_counts()[categ][1])\n",
    "#         print 'Negative : '+str(data.groupby([col])['left'].value_counts()[categ][0])"
   ]
  },
  {
   "cell_type": "code",
   "execution_count": 5,
   "metadata": {},
   "outputs": [],
   "source": [
    "def create_tree_node(value, is_leaf):\n",
    "    new_node = dict()\n",
    "    new_node['value'] = value\n",
    "    new_node['is_leaf'] = is_leaf\n",
    "    new_node['children'] = dict()\n",
    "    return new_node"
   ]
  },
  {
   "cell_type": "code",
   "execution_count": 6,
   "metadata": {},
   "outputs": [],
   "source": [
    "def display_tree(t,index):\n",
    "    print t\n",
    "    tabs = ''\n",
    "    for i in range(0,index):\n",
    "        tabs+='\\t'\n",
    "    print tabs+str(t['value'])\n",
    "    for c in t['children']:\n",
    "        i = (index+1)\n",
    "        display_tree(c,i)\n",
    "    "
   ]
  },
  {
   "cell_type": "code",
   "execution_count": null,
   "metadata": {},
   "outputs": [],
   "source": [
    "def compute_impurity(pos_ratio,neg_ratio,impurity_function):\n",
    "    if impurity_function == 'entropy':\n",
    "        if pos_ratio == 0 or pos_ratio == 1:\n",
    "            return 0\n",
    "        else:\n",
    "            return -((pos_ratio*np.log(pos_ratio)) + (neg_ratio*np.log(neg_ratio)))\n",
    "    elif impurity_function == 'gini_index':\n",
    "        return (2*pos_ratio*neg_ratio)\n",
    "    elif impurity_function == 'misclassification_rate':\n",
    "        return min(pos_ratio,neg_ratio)\n",
    "    return 0"
   ]
  },
  {
   "cell_type": "code",
   "execution_count": 7,
   "metadata": {},
   "outputs": [],
   "source": [
    "def print_tree(curr_data,curr_parent_object,curr_condition, exclude_cols,decision_tree,impurity_function):\n",
    "    \n",
    "    curr_parent_str = curr_parent_object['value']\n",
    "    if curr_parent_str not in exclude_cols:\n",
    "        exclude_cols.append(curr_parent_str)\n",
    "    #print 'Current Parent object : '+str(curr_parent_object)\n",
    "    #print 'Current Condition : '+str(curr_condition)\n",
    "    m = len(curr_data)\n",
    "    G = dict()\n",
    "    for col in curr_data:\n",
    "        if col in exclude_cols:\n",
    "            continue\n",
    "        I = 0.0\n",
    "        col_pos = 0\n",
    "        col_neg = 0\n",
    "        for categ in curr_data[col].unique():\n",
    "            #print 'col :: '+col+' ; categ :: '+str(categ)\n",
    "            #print curr_data.groupby([col])['left'].value_counts()[categ]\n",
    "            pos = 0\n",
    "            neg = 0\n",
    "            if 1 in curr_data.groupby([col])['left'].value_counts()[categ]: \n",
    "                pos = curr_data.groupby([col])['left'].value_counts()[categ][1]\n",
    "            if 0 in curr_data.groupby([col])['left'].value_counts()[categ]:\n",
    "                neg = curr_data.groupby([col])['left'].value_counts()[categ][0]\n",
    "            col_pos += pos\n",
    "            col_neg += neg\n",
    "            pos_ratio = float(pos)/float(pos+neg)\n",
    "            neg_ratio = float(neg)/float(pos+neg)\n",
    "            impurity = compute_impurity(pos_ratio,neg_ratio, impurity_function)\n",
    "            I += (float(pos+neg)/float(m))*impurity\n",
    "        col_pos_ratio = float(col_pos)/float(col_pos+col_neg)\n",
    "        col_neg_ratio = float(col_neg)/float(col_pos+col_neg)\n",
    "        E = compute_impurity(col_pos_ratio,col_neg_ratio,impurity_function)\n",
    "        G[col] = (E-I)\n",
    "    if not G:\n",
    "        if curr_parent_str == 'dummy_parent':\n",
    "            return decision_tree\n",
    "        for categ in curr_data[col].unique():\n",
    "            if 0 in curr_data.groupby([curr_parent_str])['left'].value_counts()[curr_condition] and 1 in curr_data.groupby([curr_parent_str])['left'].value_counts()[curr_condition]:\n",
    "                if curr_data.groupby([curr_parent_str])['left'].value_counts()[curr_condition][0] > curr_data.groupby([curr_parent_str])['left'].value_counts()[curr_condition][1]:\n",
    "                    #print 'Left'\n",
    "                    new_node = create_tree_node('0',True)\n",
    "                    curr_parent_object['children'][curr_condition] = new_node\n",
    "                else:\n",
    "                    new_node = create_tree_node('1',True)\n",
    "                    curr_parent_object['children'][curr_condition] = new_node\n",
    "            elif 0 in curr_data.groupby([curr_parent_str])['left'].value_counts()[curr_condition]:\n",
    "                new_node = create_tree_node('0',True)\n",
    "                curr_parent_object['children'][curr_condition] = new_node\n",
    "            elif 1 in curr_data.groupby([curr_parent_str])['left'].value_counts()[curr_condition]:\n",
    "                new_node = create_tree_node('1',True)\n",
    "                curr_parent_object['children'][curr_condition] = new_node\n",
    "            else:\n",
    "                new_node = create_tree_node('0',True)\n",
    "                curr_parent_object['children'][curr_condition] = new_node\n",
    "        return decision_tree\n",
    "    \n",
    "    max_col = max(G, key=G.get)\n",
    "    \n",
    "    new_node = create_tree_node(max_col,False)\n",
    "    if decision_tree is None:\n",
    "        decision_tree = new_node\n",
    "    else:\n",
    "        curr_parent_object['children'][curr_condition] = new_node\n",
    "    \n",
    "    temp_exclude_cols = exclude_cols[:]\n",
    "    for cond in curr_data[max_col].unique():\n",
    "        print_tree(curr_data.loc[data[max_col]==cond].copy() , new_node, cond,temp_exclude_cols,decision_tree,impurity_function)\n",
    "    \n",
    "    return decision_tree"
   ]
  },
  {
   "cell_type": "code",
   "execution_count": 8,
   "metadata": {},
   "outputs": [],
   "source": [
    "X_train, X_test, y_train, y_test = train_test_split(\n",
    "    data,\n",
    "    data.left,\n",
    "    test_size=0.2,\n",
    "    random_state=0)\n",
    "\n",
    "# data.loc[data['salary']=='low'].head()\n",
    "# data['salary'].unique()\n",
    "decision_tree_entropy = None\n",
    "decision_tree_gini = None\n",
    "decision_tree_mr = None\n",
    "dummy_node = dict()\n",
    "dummy_node['value'] = 'dummy_parent'\n",
    "decision_tree_entropy = print_tree(X_train.copy(),dummy_node,'dummy_condition',['left'],decision_tree)\n",
    "\n",
    "# print 'Decision Tree'\n",
    "# print json.dumps(decision_tree)"
   ]
  },
  {
   "cell_type": "code",
   "execution_count": 9,
   "metadata": {},
   "outputs": [],
   "source": [
    "def validate_row(row,tree_node):\n",
    "    if tree_node['is_leaf']:\n",
    "        if str(row['left']) == tree_node['value']:\n",
    "            return 1\n",
    "        else:\n",
    "            return 0\n",
    "    key = tree_node['value']\n",
    "    val = row[key]\n",
    "    if val not in tree_node['children']:\n",
    "        return 0\n",
    "    else:\n",
    "        return validate_row(row,tree_node['children'][val])"
   ]
  },
  {
   "cell_type": "code",
   "execution_count": 10,
   "metadata": {},
   "outputs": [
    {
     "name": "stdout",
     "output_type": "stream",
     "text": [
      "Total : 8990\n",
      "Hits : 6847\n",
      "Train Accuracy : 76.1624026696\n"
     ]
    }
   ],
   "source": [
    "m_train = len(X_train)\n",
    "hits_train = 0\n",
    "for index,row in X_train.iterrows():\n",
    "    hits_train += validate_row(row,decision_tree)\n",
    "print 'Total : '+str(m_train)\n",
    "print 'Hits : '+str(hits_train)\n",
    "print 'Train Accuracy : '+str((float(hits_train)/float(m_train))*100)"
   ]
  },
  {
   "cell_type": "code",
   "execution_count": 11,
   "metadata": {},
   "outputs": [
    {
     "name": "stdout",
     "output_type": "stream",
     "text": [
      "Total : 2248\n",
      "Hits : 1717\n",
      "Test Accuracy : 76.3790035587\n"
     ]
    }
   ],
   "source": [
    "m_test = len(X_test)\n",
    "hits_test = 0\n",
    "for index,row in X_test.iterrows():\n",
    "    hits_test += validate_row(row,decision_tree)\n",
    "print 'Total : '+str(m_test)\n",
    "print 'Hits : '+str(hits_test)\n",
    "print 'Test Accuracy : '+str((float(hits_test)/float(m_test))*100)"
   ]
  },
  {
   "cell_type": "code",
   "execution_count": 12,
   "metadata": {},
   "outputs": [
    {
     "name": "stdout",
     "output_type": "stream",
     "text": [
      "0.7651245551601423\n"
     ]
    }
   ],
   "source": [
    "X_train_1, X_test_1, y_train_1, y_test_1 = train_test_split(\n",
    "    data[['Work_accident','promotion_last_5years','sales','salary']],\n",
    "    data.left,\n",
    "    test_size=0.2,\n",
    "    random_state=0)\n",
    "sales_dict = {k:i for i, k in enumerate(X_train_1.sales.unique(), 0)}\n",
    "salary_dict = {k:i for i, k in enumerate(X_train_1.salary.unique(), 0)}\n",
    "X_train_1.loc[:, 'sales'] = X_train_1.loc[:, 'sales'].map(sales_dict)\n",
    "X_train_1.loc[:, 'salary'] = X_train_1.loc[:, 'salary'].map(salary_dict)\n",
    "X_test_1.loc[:, 'sales'] = X_test_1.loc[:, 'sales'].map(sales_dict)\n",
    "X_test_1.loc[:, 'salary'] = X_test_1.loc[:, 'salary'].map(salary_dict)\n",
    "\n",
    "clf = DecisionTreeClassifier()\n",
    "clf.fit(X_train_1,y_train_1)\n",
    "print clf.score(X_test_1,y_test_1)"
   ]
  },
  {
   "cell_type": "code",
   "execution_count": null,
   "metadata": {},
   "outputs": [],
   "source": []
  },
  {
   "cell_type": "code",
   "execution_count": null,
   "metadata": {},
   "outputs": [],
   "source": []
  },
  {
   "cell_type": "code",
   "execution_count": null,
   "metadata": {},
   "outputs": [],
   "source": []
  }
 ],
 "metadata": {
  "kernelspec": {
   "display_name": "Python 2",
   "language": "python",
   "name": "python2"
  },
  "language_info": {
   "codemirror_mode": {
    "name": "ipython",
    "version": 2
   },
   "file_extension": ".py",
   "mimetype": "text/x-python",
   "name": "python",
   "nbconvert_exporter": "python",
   "pygments_lexer": "ipython2",
   "version": "2.7.15rc1"
  }
 },
 "nbformat": 4,
 "nbformat_minor": 2
}
